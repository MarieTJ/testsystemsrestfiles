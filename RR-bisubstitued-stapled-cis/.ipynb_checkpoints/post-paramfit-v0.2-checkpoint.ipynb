{
 "cells": [
  {
   "cell_type": "code",
   "execution_count": 95,
   "metadata": {},
   "outputs": [],
   "source": [
    "import numpy as np\n",
    "from lmfit import Minimizer, Parameters, report_fit\n",
    "import math\n",
    "import mdtraj\n",
    "%matplotlib inline  \n",
    "\n",
    "inputfile='newcharges.mol2'"
   ]
  },
  {
   "cell_type": "code",
   "execution_count": null,
   "metadata": {},
   "outputs": [],
   "source": []
  },
  {
   "cell_type": "code",
   "execution_count": 226,
   "metadata": {},
   "outputs": [],
   "source": [
    "def find_dihedrals(inputfile, frcmod='amber.frcmod'):\n",
    "    make_missing_parms_parmck2(inputfile, frcmod=frcmod)\n",
    "    all_dihedrals=[[]]\n",
    "    dihedrals_heavy=[[]]\n",
    "    dihedrals_heavy_index=[]\n",
    "    dihe=[]\n",
    "    heavy_bonds=[]\n",
    "    dihedrals_heavy_centralbond_name=[]\n",
    "    dihedrals_heavy_name=[]\n",
    "    topol = parmed.load_file( 'input.prmtop')\n",
    "    for resid in topol.residues:\n",
    "             for atom in resid.atoms:\n",
    "\n",
    "                 if atom.atomic_number in [6, 7, 8, 16]: # C, N , O and S\n",
    "\n",
    "                    for bond in atom.bonds :\n",
    "                        b = [bond.atom1.idx , bond.atom2.idx]\n",
    "                        b.sort()\n",
    "                        if b not in heavy_bonds and bond.atom1.atomic_number in [6, 7, 8, 16] and   bond.atom2.atomic_number in[6, 7, 8, 16] \\\n",
    "                        and sorted([bond.atom1.type ,  bond.atom2.type]) not in [sorted([e[0], e[1]]) for e in  itertools.combinations_with_replacement(('CA',  'C' ,'CV' , 'N*' , 'NB','O' ), 2) ]\\\n",
    "                        and bond.atom1.name[-1].isalpha() and bond.atom2.name[-1].isalpha() :\n",
    "                            heavy_bonds.append(b)\n",
    "\n",
    "\n",
    "\n",
    "\n",
    "    dihe= topol.dihedrals\n",
    "\n",
    "    for bond in heavy_bonds:\n",
    "        if all_dihedrals[-1] != [] :\n",
    "            all_dihedrals.append([])\n",
    "            dihedrals_heavy.append([])\n",
    "        for i  in range (len(dihe)) :\n",
    "             d = [dihe[i].atom2.idx,dihe[i].atom3.idx]\n",
    "             d.sort()\n",
    "             if bond ==d :\n",
    "                 #all_dihedrals[-1].append(dihe[i])\n",
    "                 if dihe[i] not in  all_dihedrals[-1]:\n",
    "\n",
    "                     ans = [' \"%s\" \"%s\" \"%s\" \"%s\" ' %( dihe[i].atom1.name, dihe[i].atom2.name,dihe[i].atom3.name,dihe[i].atom4.name)]\n",
    "                     an = [ dihe[i].atom1.name, dihe[i].atom2.name,dihe[i].atom3.name,dihe[i].atom4.name]\n",
    "\n",
    "                     ai = [ dihe[i].atom1.idx, dihe[i].atom2.idx,dihe[i].atom3.idx,dihe[i].atom4.idx]\n",
    "                     #ai = [ ' \"%s\" \"%s\" \"%s\" \"%s\" ' %(dihe[i].atom1.idx, dihe[i].atom2.idx,dihe[i].atom3.idx,dihe[i].atom4.idx)]\n",
    "                     all_dihedrals[-1].append(dihe[i])\n",
    "                     if dihe[i].atom1.atomic_number in [6, 7, 8, 16] and  dihe[i].atom4.atomic_number in [6, 7, 8, 16] and ai not in  dihedrals_heavy_index:\n",
    "                            dihedrals_heavy[-1].append([dihe[i]])\n",
    "#                            if dihe[i].atom2.type != 'CA' and dihe[i].atom3.type != 'CA'  :  # no aromatic or it will be a mess!\n",
    "                            d=[an[1], an[2]]\n",
    "                            d.sort()\n",
    "\n",
    "                            if d not in dihedrals_heavy_centralbond_name   :\n",
    "\n",
    "                             dihedrals_heavy_centralbond_name.append(d)\n",
    "                             dihedrals_heavy_index.append(ai)\n",
    "                             dihedrals_heavy_name.append( ans)\n",
    "    torsion_names=[]\n",
    "    j=1\n",
    "    all_dihedrals_type=[]\n",
    "    all_dihedrals_type_index=[]\n",
    "#    print(dihedrals_heavy_centralbond_name)\n",
    "    for bond in dihedrals_heavy_centralbond_name:\n",
    "        bond.sort()\n",
    "        all_dihedrals_type.append([])\n",
    "        all_dihedrals_type_index.append([])\n",
    "        for i  in range (len(dihe)) :\n",
    "            if  dihe[i].improper == False :\n",
    "                d = [dihe[i].atom2.name,dihe[i].atom3.name]\n",
    "                d.sort()\n",
    "                if bond ==d :\n",
    "\n",
    "                    #at = [dihe[i].atom1.type,dihe[i].atom2.type,dihe[i].atom3.type,dihe[i].atom4.type , dihe[i].type.per]\n",
    "\n",
    "                    at = [dihe[i].atom1.type,dihe[i].atom2.type,dihe[i].atom3.type,dihe[i].atom4.type ]\n",
    "                    if at not in all_dihedrals_type[-1]  : #and ai not in  dihedrals_heavy_index:\n",
    "                        all_dihedrals_type[-1].append(at)\n",
    "                    at_index = [dihe[i].atom1.idx,dihe[i].atom2.idx,dihe[i].atom3.idx,dihe[i].atom4.idx , all_dihedrals_type[-1].index(at) ]\n",
    "                    #print(all_dihedrals_type_index[-1], )\n",
    "                    if at_index not in all_dihedrals_type_index[-1]  :\n",
    "                        all_dihedrals_type_index[-1].append(at_index)\n",
    "                    ### ---> return all indexes of atoms around the same bond and last column is the type of dihedral by reference to all_dihedrals_type\n",
    "\n",
    "        if ['CA' ,'N'] == bond:\n",
    "            torsion_names.append('PHI')\n",
    "        elif [ \"C\" , \"CA\" ] == bond :\n",
    "            torsion_names.append('PSI')\n",
    "        else :\n",
    "            torsion_names.append('CHI'+str(j) )\n",
    "            j+=1\n",
    "\n",
    "    return all_dihedrals,   all_dihedrals_type, dihedrals_heavy, dihedrals_heavy_name, torsion_names, dihedrals_heavy_index ,all_dihedrals_type_index\n",
    "\n"
   ]
  },
  {
   "cell_type": "code",
   "execution_count": 227,
   "metadata": {},
   "outputs": [],
   "source": [
    "def make_traj(prefix, index ):\n",
    "    list_pdb=open(prefix +'-listfiles')\n",
    "    lines=list_pdb.readlines()\n",
    "    if len(lines) > 0 : first=lines.pop(0).replace(' \\n','')\n",
    "    else :\n",
    "        return False\n",
    "    t = mdtraj.load(first, top='input.prmtop')\n",
    "\n",
    "    table, bonds = t.topology.to_dataframe()\n",
    "\n",
    "    for i in range(len(lines)):\n",
    "        filename=lines.pop(0).replace(' \\n','')\n",
    "        #print(filename)\n",
    "        tnext= mdtraj.load(filename.replace(' \\n',''), top='input.prmtop')\n",
    "        t= mdtraj.join([t , tnext], check_topology=True, discard_overlapping_frames=False)\n",
    "    t.save_mdcrd(prefix+ '-traj.mdcrd' )\n",
    "    t = mdtraj.load(prefix+ '-traj.mdcrd', top='input.prmtop')\n",
    "    table, bonds = t.topology.to_dataframe()\n",
    "    #print(table)\n",
    "    dih= mdtraj.compute_dihedrals(t,index)\n",
    "    t.save_netcdf(prefix+ '-traj.nc' )\n",
    "    return t.n_frames ,dih"
   ]
  },
  {
   "cell_type": "code",
   "execution_count": 228,
   "metadata": {},
   "outputs": [],
   "source": [
    "def fcn2min(params, n_dih,maxorder,  x, data ,names):\n",
    "    # define objective function: returns the array to be minimized\n",
    "    # To do: define the angle better for the non heavy atoms,\n",
    "    # it works now for most dihedral but not for psi as angle are not ~2pi/3\n",
    "    # Solution1 : mdtraj.computedihedrals  : in rad :-)\n",
    "    # Solution2 : read angle harmonic equilibration values from frcmod  : in degrees --> conversion\n",
    "    model = 0\n",
    "    for i in range(1,maxorder+1):\n",
    "        for j in range (0,n_dih):\n",
    "            amp = params['amp%s_%s'%(i,names[j]) ]\n",
    "            #shift = params['shift%s'%i]\n",
    "            order=i\n",
    "            phase = params['phase%s_%s'%(i,names[j]) ]\n",
    "        #decay = params['decay']           \n",
    "            model +=  amp *  ( 1 + phase * np.cos(x[j]*order ))\n",
    "    model+=params['K']\n",
    "    return model - data"
   ]
  },
  {
   "cell_type": "code",
   "execution_count": 229,
   "metadata": {},
   "outputs": [],
   "source": [
    "def fct2min(params, n_dih,maxorder,  x, data ,names):\n",
    "    # define objective function: returns the array to be minimized\n",
    "    # To do: define the angle better for the non heavy atoms,\n",
    "    # it works now for most dihedral but not for psi as angle are not ~2pi/3\n",
    "    # Solution1 : mdtraj.computedihedrals  : in rad :-)\n",
    "    # Solution2 : read angle harmonic equilibration values from frcmod  : in degrees --> conversion\n",
    "    model = 0\n",
    "    for i in range(1,maxorder+1):\n",
    "        for j in n_dih:\n",
    "            amp = params['amp%s_%s'%(i,names[j]) ]\n",
    "            #shift = params['shift%s'%i]\n",
    "            order=i\n",
    "            phase = params['phase%s_%s'%(i,names[j]) ]\n",
    "        #decay = params['decay']           \n",
    "            model +=  0.5*amp *  ( 1 + phase * np.cos(x[j]*order ))\n",
    "    model+=params['K']\n",
    "    return model - data"
   ]
  },
  {
   "cell_type": "code",
   "execution_count": 230,
   "metadata": {},
   "outputs": [],
   "source": [
    "\n",
    "#print(torsion_names[0], [dihedrals_heavy_index[0]], dihedrals_heavy_name[0])\n",
    "#print( all_dihedrals_type[0] ,all_dihedrals_type_index[0][:])\n",
    "def make_dependency(torsion_idx,all_dihedrals_type, all_dihedrals_type_index):\n",
    "    dependency={}\n",
    "    count=np.zeros(len( all_dihedrals_type[torsion_idx] ))\n",
    "    for j in all_dihedrals_type_index[torsion_idx]:\n",
    "        if count[j[-1]]!= 0 :\n",
    "            dependency.update({all_dihedrals_type_index[torsion_idx].index(j): int(count[j[-1]] )})\n",
    "        else : \n",
    "            count[j[-1]]=all_dihedrals_type_index[torsion_idx].index(j)\n",
    "   \n",
    "    return  dependency\n",
    "\n",
    "\n",
    "\n",
    "#make_traj(torsion_names[torsion_idx]+'_',[[dih[0],dih[1], dih[2],dih[3]] for dih  in all_dihedrals_type_index[torsion_idx] ])\n"
   ]
  },
  {
   "cell_type": "code",
   "execution_count": 231,
   "metadata": {},
   "outputs": [],
   "source": [
    "import numpy\n",
    "#import MDAnalysis as MDA\n",
    "import parmed\n",
    "import os\n",
    "import sys\n",
    "import itertools\n",
    "#def get_close_atoms(target_atom):\n",
    "\n",
    "\t#close_atoms = ns.search(target_atom.coord, 2)\n",
    "\t#return close_atoms\n",
    "\n",
    "\n",
    "\n",
    "\n",
    "def make_missing_parms_parmck2(inputfile, frcmod='amber.frcmod'):\n",
    "    os.system( 'parmchk2 -i  %s  -o frcmod -f mol2 -s 2 -o amber.frcmod -a \"Y\" ' %(inputfile))\n",
    "    tleapinput=open('temp.in','w')\n",
    "    tleapinput.writelines([  'source leaprc.protein.ff14SB \\n'  , 'loadAmberParams %s \\n'%(frcmod), 'input = loadmol2 %s \\n '  %(inputfile ) ,\\\n",
    "    'saveAmberParm  input  input.prmtop input.inpcrd\\n ', 'quit'])\n",
    "    tleapinput.close()\n",
    "    os.system( 'tleap -f temp.in >tleap' )\n",
    "inputfile='newcharges.mol2'\n",
    "make_missing_parms_parmck2(inputfile)"
   ]
  },
  {
   "cell_type": "code",
   "execution_count": 232,
   "metadata": {},
   "outputs": [],
   "source": [
    "def plot(data, final,x):\n",
    "    try:\n",
    "        import matplotlib.pyplot as plt\n",
    "        plt.plot(x.T[0], data, 'k+')\n",
    "        plt.plot(x.T[0], final, 'r')\n",
    "        #plt.plot( data2, 'b')\n",
    "        plt.show()\n",
    "    except ImportError:\n",
    "        pass"
   ]
  },
  {
   "cell_type": "code",
   "execution_count": 233,
   "metadata": {},
   "outputs": [],
   "source": [
    "def write_frcmod(result, torsion_name , all_dihedrals_type,all_dihedrals_type_index):\n",
    "    frcmod_file=open('%s.frcmod' %(torsion_name),'w')\n",
    "    frcmod_file.writelines('\\nDIHE\\n')\n",
    "    new_frcmod=[]\n",
    "    threshold=0.005\n",
    "\n",
    "    for parm  in result.params:\n",
    "\n",
    "        if  parm[0:3]== 'amp' and result.params[parm].value != 0 and parm[-3:] != 'bis' : # dependency.keys():\n",
    "            #print( parm[3] , parm[-1]  ,  result.params['order'+parm[3:]].value, result.params[parm].value)\n",
    "            if math.fabs(result.params[parm].value) > threshold :\n",
    "                #new_frcmod.append([all_dihedrals_type[torsion][all_dihedrals_type_index[torsion][int(parm[-1])][-1]],  result.params[parm].value ,  result.params['order'+parm[3:]].value])\n",
    "                #print( [i.ljust(2) for i in parm.split('_')[-4:]])\n",
    "                #new_frcmod.append(['-'.join([i.ljust(2) for i in parm.split('_')[-4:]]),  result.params[parm].value ,  result.params['order'+parm[3:]].value])\n",
    "                order=result.params[parm].name[3]\n",
    "                phase='  0'\n",
    "                if result.params[parm].value < 0 : phase='180'\n",
    "                new_frcmod.append(['-'.join([i.ljust(2) for i in parm.split('_')[-4:]]), math.fabs( result.params[parm].value ) ,  phase ,order ] )\n",
    "           \n",
    "            #else : \n",
    "                #print(result.params[parm].value )\n",
    "\n",
    "    new_frcmod.sort(key=lambda x: x[0])\n",
    "\n",
    "    for l in  range(len(new_frcmod)) :\n",
    "        line=new_frcmod[l]\n",
    "        if l != len(new_frcmod)-1 : \n",
    "            nextdih=new_frcmod[l+1][0]\n",
    "\n",
    "        else :\n",
    "            nextdih=False\n",
    "        \n",
    "        if line[0] == nextdih  : s= '-'\n",
    "        else : s= ' '\n",
    "        #print(line[0] == new_frcmod[l+1][0], s*int(line[3]))\n",
    "        frcmod_file.writelines('%s  1  %s   %s   %s \\n' %(line[0] , str(math.fabs(line[1]))[0:6], phase , s +line[3] ))\n",
    "\n",
    "        #print( '%s   1  %s   %s   %s' %(line[0][0].ljust(2), line[0][1].ljust(2) ,line[0][2].ljust(2) ,line[0][3].ljust(2) , str(math.fabs(line[1]))[0:6], phase , s*line[2]  ))\n",
    "#write_frcmod(result,'test', all_dihedrals_type=all_dihedrals_type,all_dihedrals_type_index=all_dihedrals_type_index)"
   ]
  },
  {
   "cell_type": "code",
   "execution_count": 234,
   "metadata": {},
   "outputs": [
    {
     "name": "stdout",
     "output_type": "stream",
     "text": [
      "[['C', 'CX', 'N', 'C'], ['CU', 'CX', 'N', 'C'], ['C', 'CX', 'N', 'H'], ['CU', 'CX', 'N', 'H']]\n",
      "[0, 1, 1, 2, 3, 3]\n",
      "{0: 1, 1: 2, 2: 1, 3: 2}\n"
     ]
    }
   ],
   "source": [
    "\n",
    "def make_multiplicity(torsion_idx,all_dihedrals_type=all_dihedrals_type, all_dihedrals_type_index=all_dihedrals_type_index):\n",
    "    multiplicity={}\n",
    "    count=np.zeros(len( all_dihedrals_type[torsion_idx] ))\n",
    "    print(all_dihedrals_type[torsion_idx] )\n",
    "    mul =  [ j[-1]  for j in all_dihedrals_type_index[torsion_idx]]\n",
    "    print(mul)\n",
    "    for j in range(len(all_dihedrals_type[torsion_idx])):\n",
    "        multiplicity.update({j : mul.count(j)})\n",
    "\n",
    "    return  multiplicity\n",
    "\n",
    "multiciplicy = make_multiplicity(2,all_dihedrals_type=all_dihedrals_type, all_dihedrals_type_index=all_dihedrals_type_index)\n",
    "print(multiciplicy)\n"
   ]
  },
  {
   "cell_type": "code",
   "execution_count": 235,
   "metadata": {},
   "outputs": [],
   "source": [
    "import parmed\n",
    "def add_new_parms(inputfile,newfrcmod):\n",
    "    tleapinput=open('temp.in','w')\n",
    "    tleapinput.writelines(['source leaprc.protein.ff14SB \\n' , 'source leaprc.gaff2 \\n' ,'loadAmberParams gaff2.frcmod \\n', 'loadAmberParams amber.frcmod \\n', ])\n",
    "    for name in newfrcmod:\n",
    "         tleapinput.writelines( 'loadAmberParams %s.frcmod \\n' % name  )\n",
    "    tleapinput.writelines( [ 'new = loadmol2 %s \\n '  %(inputfile) ,\\\n",
    "    'saveAmberParm  new  newtopol.prmtop new.inpcrd\\n ', 'quit'])\n",
    "    tleapinput.close()\n",
    "    os.system( 'tleap -f temp.in >tleap' )\n",
    "    new=parmed.load_file('newtopol.prmtop')\n",
    "    parmed.tools.writeFrcmod(new,'new.frcmod').execute()"
   ]
  },
  {
   "cell_type": "code",
   "execution_count": 236,
   "metadata": {},
   "outputs": [],
   "source": [
    "def leastsquarebck(x,qm,dih_idx, dih_type,dependency, maxorder=4):\n",
    "    n_dih=len(dih_idx)\n",
    "\n",
    "    while maxorder*n_dih > 35 :\n",
    "        maxorder-=1\n",
    "        print('warning maxorder has been reduced to : %s ' %maxorder) \n",
    "    # create a set of Parameters\n",
    "    params = Parameters()\n",
    "    names=[]\n",
    "    for i in range(1, maxorder+1):\n",
    "        for j in range (len(dih_idx)):\n",
    "            #print(i ,j)\n",
    "            if dependency.get(j) :\n",
    "                expr='amp%s_%s'%(i,names[dependency.get(j)])\n",
    "                #print(expr)\n",
    "                name= '_'.join(dih_type[dih_idx[j][-1]])+ '_bis'\n",
    "                #print(name)\n",
    "                names.append(name)\n",
    "                params.add('amp%s_%s'%(i,name), value=0 , expr=expr)\n",
    "            else : \n",
    "                name='_'.join(dih_type[dih_idx[j][-1]])\n",
    "                names.append(name)\n",
    "                params.add('amp%s_%s'%(i,name),  value=0)\n",
    "            # print(name)\n",
    "            #print('order%s_%s'%(i,name))\n",
    "            #params.add('order%s_%s'%(i,name), value=i,vary=False)\n",
    "            \n",
    "            params.add('phase%s_%s'%(i,name), expr=\"-1 or 1\")\n",
    "    params.add('K', value=0)\n",
    "    #print(params)\n",
    "    # do fit, here with leastsq model\n",
    "    minner = Minimizer(fcn2min, params, fcn_args=(n_dih,maxorder,x, data,names))\n",
    "    result = minner.minimize()\n",
    "    return result\n",
    "    # calculate final result\n"
   ]
  },
  {
   "cell_type": "code",
   "execution_count": 237,
   "metadata": {},
   "outputs": [],
   "source": [
    "def fctderiv2min(params, n_dih,maxorder,  x, data ,names):\n",
    "    # define objective function: returns the array to be minimized\n",
    "    # To do: define the angle better for the non heavy atoms,\n",
    "    # it works now for most dihedral but not for psi as angle are not ~2pi/3\n",
    "    # Solution1 : mdtraj.computedihedrals  : in rad :-)\n",
    "    # Solution2 : read angle harmonic equilibration values from frcmod  : in degrees --> conversion\n",
    "    model = 0\n",
    "    SumAmp =0\n",
    "    for i in range(1,maxorder+1):\n",
    "        for j in n_dih:\n",
    "            amp = params['amp%s_%s'%(i,names[j]) ]\n",
    "            #shift = params['shift%s'%i]\n",
    "            order=i\n",
    "        #decay = params['decay']   \n",
    "            SumAmp+=amp\n",
    "            model +=  - 0.5* amp * order * np.sin(x[j]*order)\n",
    "\n",
    "    model += params['K']\n",
    "    return model - data + abs(SumAmp)*0.5 #try to fit the curve with the smallest amplitudes\n",
    "\n"
   ]
  },
  {
   "cell_type": "code",
   "execution_count": 238,
   "metadata": {},
   "outputs": [],
   "source": [
    "def leastsquare(x,qm,dih_idx, dih_type, maxorder=6 ,removed=[]):\n",
    "    #n_dih=len(dih_idx)\n",
    "    mul =  [ j[-1]  for j in dih_idx ]\n",
    "    print(mul)\n",
    "    while maxorder*len(dih_type) > 17:\n",
    "        maxorder-=1\n",
    "        print('warning maxorder has been reduced to : %s ' %maxorder) \n",
    "    # create a set of Parameters\n",
    "    params = Parameters()\n",
    "    params2 = Parameters()\n",
    "    names=[]\n",
    "    \n",
    "    for j in range (len(dih_type)):\n",
    "        if dih_type[j] not in removed: \n",
    "            name= '_'.join(dih_type[j])\n",
    "            names.append(name)\n",
    "            for i in range(1, maxorder+1):\n",
    "\n",
    "                print(name)\n",
    "\n",
    "                #params.add('amp%s_%s'%(i,name), value=0)\n",
    "                params.add('amp%s_%s'%(i,name), value=0,min=-2, max=2)\n",
    "                #params.add('phase%s_%s'%(i,name), value=0)\n",
    "                #print('phase%s_%s'%(i,name))\n",
    "                #params.add('phase%s_%s'%(i,name), min=-1 , max=1)\n",
    "    params.add('K', value=0)\n",
    "    #print(params)\n",
    "    # do fit, here with leastsq model\n",
    "\n",
    "    \n",
    "    minner = Minimizer(fctderiv2min, params, fcn_args=(mul,maxorder,x, data,names))\n",
    "    result = minner.minimize()\n",
    "    #print(result.params)\n",
    " \n",
    "    \n",
    "\n",
    "    \n",
    "    \n",
    "    return result\n",
    "    # calculate final result\n"
   ]
  },
  {
   "cell_type": "code",
   "execution_count": 239,
   "metadata": {},
   "outputs": [
    {
     "name": "stdout",
     "output_type": "stream",
     "text": [
      "[0, 0, 1, 2, 2, 3]\n",
      "N_C_CX_CU\n",
      "N_C_CX_CU\n",
      "N_C_CX_CU\n",
      "N_C_CX_N\n",
      "N_C_CX_N\n",
      "N_C_CX_N\n",
      "O_C_CX_CU\n",
      "O_C_CX_CU\n",
      "O_C_CX_CU\n",
      "O_C_CX_N\n",
      "O_C_CX_N\n",
      "O_C_CX_N\n",
      "[[Fit Statistics]]\n",
      "    # fitting method   = leastsq\n",
      "    # function evals   = 109\n",
      "    # data points      = 36\n",
      "    # variables        = 13\n",
      "    chi-square         = 35660.7889\n",
      "    reduced chi-square = 1550.46908\n",
      "    Akaike info crit   = 274.338371\n",
      "    Bayesian info crit = 294.924117\n",
      "##  Warning: uncertainties could not be estimated:\n",
      "[[Variables]]\n",
      "    amp1_N_C_CX_CU:  1.99438331 (init = 0)\n",
      "    amp2_N_C_CX_CU:  0.07843684 (init = 0)\n",
      "    amp3_N_C_CX_CU: -0.50184040 (init = 0)\n",
      "    amp1_N_C_CX_N:  -1.62539552 (init = 0)\n",
      "    amp2_N_C_CX_N:  -1.99059291 (init = 0)\n",
      "    amp3_N_C_CX_N:  -1.33240761 (init = 0)\n",
      "    amp1_O_C_CX_CU:  0.46550123 (init = 0)\n",
      "    amp2_O_C_CX_CU:  1.96250389 (init = 0)\n",
      "    amp3_O_C_CX_CU: -0.91030504 (init = 0)\n",
      "    amp1_O_C_CX_N:  -1.53563031 (init = 0)\n",
      "    amp2_O_C_CX_N:  -1.96556151 (init = 0)\n",
      "    amp3_O_C_CX_N:   1.54689666 (init = 0)\n",
      "    K:               1.37066478 (init = 0)\n"
     ]
    },
    {
     "data": {
      "image/png": "[encoded data removed]",
      "text/plain": [
       "<Figure size 432x288 with 1 Axes>"
      ]
     },
     "metadata": {
      "needs_background": "light"
     },
     "output_type": "display_data"
    },
    {
     "name": "stdout",
     "output_type": "stream",
     "text": [
      "[0, 1, 2, 3, 3, 4, 4, 5, 5]\n",
      "warning maxorder has been reduced to : 2 \n",
      "C_CX_CU_CU\n",
      "C_CX_CU_CU\n",
      "CU_CX_CU_CU\n",
      "CU_CX_CU_CU\n",
      "CU_CU_CX_N\n",
      "CU_CU_CX_N\n",
      "C_CX_CU_HC\n",
      "C_CX_CU_HC\n",
      "CU_CX_CU_HC\n",
      "CU_CX_CU_HC\n",
      "N_CX_CU_HC\n",
      "N_CX_CU_HC\n",
      "[[Fit Statistics]]\n",
      "    # fitting method   = leastsq\n",
      "    # function evals   = 139\n",
      "    # data points      = 36\n",
      "    # variables        = 13\n",
      "    chi-square         = 238.131807\n",
      "    reduced chi-square = 10.3535568\n",
      "    Akaike info crit   = 94.0149942\n",
      "    Bayesian info crit = 114.600740\n",
      "##  Warning: uncertainties could not be estimated:\n",
      "[[Variables]]\n",
      "    amp1_C_CX_CU_CU:  -1.25161288 (init = 0)\n",
      "    amp2_C_CX_CU_CU:  -0.19781367 (init = 0)\n",
      "    amp1_CU_CX_CU_CU:  1.04002066 (init = 0)\n",
      "    amp2_CU_CX_CU_CU: -0.10317809 (init = 0)\n",
      "    amp1_CU_CU_CX_N:   0.65081393 (init = 0)\n",
      "    amp2_CU_CU_CX_N:  -0.28928657 (init = 0)\n",
      "    amp1_C_CX_CU_HC:   0.28443378 (init = 0)\n",
      "    amp2_C_CX_CU_HC:  -0.16694346 (init = 0)\n",
      "    amp1_CU_CX_CU_HC:  0.67327344 (init = 0)\n",
      "    amp2_CU_CX_CU_HC:  0.12804448 (init = 0)\n",
      "    amp1_N_CX_CU_HC:  -0.78189141 (init = 0)\n",
      "    amp2_N_CX_CU_HC:  -0.06138780 (init = 0)\n",
      "    K:                 0.07152816 (init = 0)\n"
     ]
    },
    {
     "data": {
      "image/png": "[encoded data removed]",
      "text/plain": [
       "<Figure size 432x288 with 1 Axes>"
      ]
     },
     "metadata": {
      "needs_background": "light"
     },
     "output_type": "display_data"
    },
    {
     "name": "stdout",
     "output_type": "stream",
     "text": [
      "[0, 1, 1, 2, 3, 3]\n",
      "C_CX_N_C\n",
      "C_CX_N_C\n",
      "C_CX_N_C\n",
      "CU_CX_N_C\n",
      "CU_CX_N_C\n",
      "CU_CX_N_C\n",
      "C_CX_N_H\n",
      "C_CX_N_H\n",
      "C_CX_N_H\n",
      "CU_CX_N_H\n",
      "CU_CX_N_H\n",
      "CU_CX_N_H\n",
      "[[Fit Statistics]]\n",
      "    # fitting method   = leastsq\n",
      "    # function evals   = 42\n",
      "    # data points      = 36\n",
      "    # variables        = 13\n",
      "    chi-square         = 128961.351\n",
      "    reduced chi-square = 5607.01527\n",
      "    Akaike info crit   = 320.614968\n",
      "    Bayesian info crit = 341.200714\n",
      "##  Warning: uncertainties could not be estimated:\n",
      "[[Variables]]\n",
      "    amp1_C_CX_N_C:   1.89464624 (init = 0)\n",
      "    amp2_C_CX_N_C:   1.94978285 (init = 0)\n",
      "    amp3_C_CX_N_C:   1.85858010 (init = 0)\n",
      "    amp1_CU_CX_N_C:  1.98249178 (init = 0)\n",
      "    amp2_CU_CX_N_C: -1.85675975 (init = 0)\n",
      "    amp3_CU_CX_N_C:  1.27679928 (init = 0)\n",
      "    amp1_C_CX_N_H:   1.29276229 (init = 0)\n",
      "    amp2_C_CX_N_H:   1.91895619 (init = 0)\n",
      "    amp3_C_CX_N_H:   1.97229932 (init = 0)\n",
      "    amp1_CU_CX_N_H: -1.82642139 (init = 0)\n",
      "    amp2_CU_CX_N_H:  1.90824165 (init = 0)\n",
      "    amp3_CU_CX_N_H: -1.99165662 (init = 0)\n",
      "    K:              -0.07394129 (init = 0)\n"
     ]
    },
    {
     "data": {
      "image/png": "[encoded data removed]",
      "text/plain": [
       "<Figure size 432x288 with 1 Axes>"
      ]
     },
     "metadata": {
      "needs_background": "light"
     },
     "output_type": "display_data"
    },
    {
     "name": "stdout",
     "output_type": "stream",
     "text": [
      "[0, 1, 1, 2, 2, 3, 3, 3, 3]\n",
      "CX_CU_CU_CU\n",
      "CX_CU_CU_CU\n",
      "CX_CU_CU_CU\n",
      "CX_CU_CU_HC\n",
      "CX_CU_CU_HC\n",
      "CX_CU_CU_HC\n",
      "CU_CU_CU_HC\n",
      "CU_CU_CU_HC\n",
      "CU_CU_CU_HC\n",
      "HC_CU_CU_HC\n",
      "HC_CU_CU_HC\n",
      "HC_CU_CU_HC\n",
      "[[Fit Statistics]]\n",
      "    # fitting method   = leastsq\n",
      "    # function evals   = 53\n",
      "    # data points      = 35\n",
      "    # variables        = 13\n",
      "    chi-square         = 457473.943\n",
      "    reduced chi-square = 20794.2701\n",
      "    Akaike info crit   = 357.734450\n",
      "    Bayesian info crit = 377.953975\n",
      "##  Warning: uncertainties could not be estimated:\n",
      "[[Variables]]\n",
      "    amp1_CX_CU_CU_CU:  1.50901736 (init = 0)\n",
      "    amp2_CX_CU_CU_CU:  1.02948298 (init = 0)\n",
      "    amp3_CX_CU_CU_CU:  0.34251840 (init = 0)\n",
      "    amp1_CX_CU_CU_HC: -1.97965258 (init = 0)\n",
      "    amp2_CX_CU_CU_HC:  1.91384852 (init = 0)\n",
      "    amp3_CX_CU_CU_HC:  0.09007765 (init = 0)\n",
      "    amp1_CU_CU_CU_HC:  1.92593258 (init = 0)\n",
      "    amp2_CU_CU_CU_HC: -1.72680623 (init = 0)\n",
      "    amp3_CU_CU_CU_HC:  0.86461546 (init = 0)\n",
      "    amp1_HC_CU_CU_HC: -1.99040208 (init = 0)\n",
      "    amp2_HC_CU_CU_HC:  1.05523073 (init = 0)\n",
      "    amp3_HC_CU_CU_HC:  0.11445470 (init = 0)\n",
      "    K:                -0.67010420 (init = 0)\n"
     ]
    },
    {
     "data": {
      "image/png": "[encoded data removed]",
      "text/plain": [
       "<Figure size 432x288 with 1 Axes>"
      ]
     },
     "metadata": {
      "needs_background": "light"
     },
     "output_type": "display_data"
    },
    {
     "name": "stdout",
     "output_type": "stream",
     "text": [
      "[0, 1, 1, 2, 2, 3, 3, 3, 3]\n",
      "CU_CU_CU_CM\n",
      "CU_CU_CU_CM\n",
      "CU_CU_CU_CM\n",
      "CU_CU_CU_HC\n",
      "CU_CU_CU_HC\n",
      "CU_CU_CU_HC\n",
      "CM_CU_CU_HC\n",
      "CM_CU_CU_HC\n",
      "CM_CU_CU_HC\n",
      "HC_CU_CU_HC\n",
      "HC_CU_CU_HC\n",
      "HC_CU_CU_HC\n",
      "[[Fit Statistics]]\n",
      "    # fitting method   = leastsq\n",
      "    # function evals   = 60\n",
      "    # data points      = 35\n",
      "    # variables        = 13\n",
      "    chi-square         = 1062827.78\n",
      "    reduced chi-square = 48310.3534\n",
      "    Akaike info crit   = 387.238345\n",
      "    Bayesian info crit = 407.457870\n",
      "##  Warning: uncertainties could not be estimated:\n",
      "[[Variables]]\n",
      "    amp1_CU_CU_CU_CM:  1.99824312 (init = 0)\n",
      "    amp2_CU_CU_CU_CM:  1.98381117 (init = 0)\n",
      "    amp3_CU_CU_CU_CM: -1.99960914 (init = 0)\n",
      "    amp1_CU_CU_CU_HC: -1.89932681 (init = 0)\n",
      "    amp2_CU_CU_CU_HC:  1.97551698 (init = 0)\n",
      "    amp3_CU_CU_CU_HC: -1.45771770 (init = 0)\n",
      "    amp1_CM_CU_CU_HC: -1.80282116 (init = 0)\n",
      "    amp2_CM_CU_CU_HC: -1.81101489 (init = 0)\n",
      "    amp3_CM_CU_CU_HC: -1.33082272 (init = 0)\n",
      "    amp1_HC_CU_CU_HC: -0.84916349 (init = 0)\n",
      "    amp2_HC_CU_CU_HC:  1.44018991 (init = 0)\n",
      "    amp3_HC_CU_CU_HC: -0.74794229 (init = 0)\n",
      "    K:                 0.50911029 (init = 0)\n"
     ]
    },
    {
     "data": {
      "image/png": "[encoded data removed]",
      "text/plain": [
       "<Figure size 432x288 with 1 Axes>"
      ]
     },
     "metadata": {
      "needs_background": "light"
     },
     "output_type": "display_data"
    },
    {
     "name": "stdout",
     "output_type": "stream",
     "text": [
      "[0, 1, 2, 2, 3, 3]\n",
      "CU_CU_CM_CM\n",
      "CU_CU_CM_CM\n",
      "CU_CU_CM_CM\n",
      "CU_CU_CM_HA\n",
      "CU_CU_CM_HA\n",
      "CU_CU_CM_HA\n",
      "CM_CM_CU_HC\n",
      "CM_CM_CU_HC\n",
      "CM_CM_CU_HC\n",
      "HC_CU_CM_HA\n",
      "HC_CU_CM_HA\n",
      "HC_CU_CM_HA\n",
      "[[Fit Statistics]]\n",
      "    # fitting method   = leastsq\n",
      "    # function evals   = 83\n",
      "    # data points      = 33\n",
      "    # variables        = 13\n",
      "    chi-square         = 801717.932\n",
      "    reduced chi-square = 40085.8966\n",
      "    Akaike info crit   = 359.234150\n",
      "    Bayesian info crit = 378.688749\n",
      "##  Warning: uncertainties could not be estimated:\n",
      "[[Variables]]\n",
      "    amp1_CU_CU_CM_CM:  1.93029178 (init = 0)\n",
      "    amp2_CU_CU_CM_CM: -1.99239544 (init = 0)\n",
      "    amp3_CU_CU_CM_CM:  0.48970734 (init = 0)\n",
      "    amp1_CU_CU_CM_HA: -1.96462373 (init = 0)\n",
      "    amp2_CU_CU_CM_HA: -1.99997440 (init = 0)\n",
      "    amp3_CU_CU_CM_HA:  0.47520579 (init = 0)\n",
      "    amp1_CM_CM_CU_HC: -1.93297817 (init = 0)\n",
      "    amp2_CM_CM_CU_HC: -1.42568585 (init = 0)\n",
      "    amp3_CM_CM_CU_HC: -0.10595009 (init = 0)\n",
      "    amp1_HC_CU_CM_HA: -1.93874146 (init = 0)\n",
      "    amp2_HC_CU_CM_HA:  1.96542945 (init = 0)\n",
      "    amp3_HC_CU_CM_HA:  0.47017835 (init = 0)\n",
      "    K:                 0.90140406 (init = 0)\n"
     ]
    },
    {
     "data": {
      "image/png": "[encoded data removed]",
      "text/plain": [
       "<Figure size 432x288 with 1 Axes>"
      ]
     },
     "metadata": {
      "needs_background": "light"
     },
     "output_type": "display_data"
    },
    {
     "ename": "FormatNotFound",
     "evalue": "Could not identify file format",
     "output_type": "error",
     "traceback": [
      "\u001b[0;31m---------------------------------------------------------------------------\u001b[0m",
      "\u001b[0;31mFormatNotFound\u001b[0m                            Traceback (most recent call last)",
      "\u001b[0;32m<ipython-input-239-59b18cc65e38>\u001b[0m in \u001b[0;36m<module>\u001b[0;34m\u001b[0m\n\u001b[1;32m     36\u001b[0m         \u001b[0mplot\u001b[0m\u001b[0;34m(\u001b[0m\u001b[0mderivdata\u001b[0m\u001b[0;34m,\u001b[0m \u001b[0mfinal\u001b[0m\u001b[0;34m,\u001b[0m\u001b[0mx\u001b[0m\u001b[0;34m)\u001b[0m\u001b[0;34m\u001b[0m\u001b[0;34m\u001b[0m\u001b[0m\n\u001b[1;32m     37\u001b[0m         \u001b[0mwrite_frcmod\u001b[0m\u001b[0;34m(\u001b[0m\u001b[0mresult\u001b[0m\u001b[0;34m,\u001b[0m\u001b[0mtorsion_names\u001b[0m\u001b[0;34m[\u001b[0m\u001b[0mtorsion\u001b[0m\u001b[0;34m]\u001b[0m\u001b[0;34m,\u001b[0m  \u001b[0mall_dihedrals_type\u001b[0m\u001b[0;34m,\u001b[0m\u001b[0mall_dihedrals_type_index\u001b[0m\u001b[0;34m)\u001b[0m\u001b[0;34m\u001b[0m\u001b[0;34m\u001b[0m\u001b[0m\n\u001b[0;32m---> 38\u001b[0;31m \u001b[0madd_new_parms\u001b[0m\u001b[0;34m(\u001b[0m\u001b[0minputfile\u001b[0m\u001b[0;34m,\u001b[0m\u001b[0mtorsion_names\u001b[0m\u001b[0;34m)\u001b[0m\u001b[0;34m\u001b[0m\u001b[0;34m\u001b[0m\u001b[0m\n\u001b[0m",
      "\u001b[0;32m<ipython-input-235-6fba6b83a5fb>\u001b[0m in \u001b[0;36madd_new_parms\u001b[0;34m(inputfile, newfrcmod)\u001b[0m\n\u001b[1;32m      9\u001b[0m     \u001b[0mtleapinput\u001b[0m\u001b[0;34m.\u001b[0m\u001b[0mclose\u001b[0m\u001b[0;34m(\u001b[0m\u001b[0;34m)\u001b[0m\u001b[0;34m\u001b[0m\u001b[0;34m\u001b[0m\u001b[0m\n\u001b[1;32m     10\u001b[0m     \u001b[0mos\u001b[0m\u001b[0;34m.\u001b[0m\u001b[0msystem\u001b[0m\u001b[0;34m(\u001b[0m \u001b[0;34m'tleap -f temp.in >tleap'\u001b[0m \u001b[0;34m)\u001b[0m\u001b[0;34m\u001b[0m\u001b[0;34m\u001b[0m\u001b[0m\n\u001b[0;32m---> 11\u001b[0;31m     \u001b[0mnew\u001b[0m\u001b[0;34m=\u001b[0m\u001b[0mparmed\u001b[0m\u001b[0;34m.\u001b[0m\u001b[0mload_file\u001b[0m\u001b[0;34m(\u001b[0m\u001b[0;34m'newtopol.prmtop'\u001b[0m\u001b[0;34m)\u001b[0m\u001b[0;34m\u001b[0m\u001b[0;34m\u001b[0m\u001b[0m\n\u001b[0m\u001b[1;32m     12\u001b[0m     \u001b[0mparmed\u001b[0m\u001b[0;34m.\u001b[0m\u001b[0mtools\u001b[0m\u001b[0;34m.\u001b[0m\u001b[0mwriteFrcmod\u001b[0m\u001b[0;34m(\u001b[0m\u001b[0mnew\u001b[0m\u001b[0;34m,\u001b[0m\u001b[0;34m'new.frcmod'\u001b[0m\u001b[0;34m)\u001b[0m\u001b[0;34m.\u001b[0m\u001b[0mexecute\u001b[0m\u001b[0;34m(\u001b[0m\u001b[0;34m)\u001b[0m\u001b[0;34m\u001b[0m\u001b[0;34m\u001b[0m\u001b[0m\n",
      "\u001b[0;32m~/Utilities/amber16/lib/python2.7/site-packages/parmed/formats/registry.py\u001b[0m in \u001b[0;36mload_file\u001b[0;34m(filename, *args, **kwargs)\u001b[0m\n\u001b[1;32m    180\u001b[0m     \u001b[0;32melse\u001b[0m\u001b[0;34m:\u001b[0m\u001b[0;34m\u001b[0m\u001b[0;34m\u001b[0m\u001b[0m\n\u001b[1;32m    181\u001b[0m         \u001b[0;31m# We found no file format\u001b[0m\u001b[0;34m\u001b[0m\u001b[0;34m\u001b[0m\u001b[0;34m\u001b[0m\u001b[0m\n\u001b[0;32m--> 182\u001b[0;31m         \u001b[0;32mraise\u001b[0m \u001b[0mFormatNotFound\u001b[0m\u001b[0;34m(\u001b[0m\u001b[0;34m'Could not identify file format'\u001b[0m\u001b[0;34m)\u001b[0m\u001b[0;34m\u001b[0m\u001b[0;34m\u001b[0m\u001b[0m\n\u001b[0m\u001b[1;32m    183\u001b[0m \u001b[0;34m\u001b[0m\u001b[0m\n\u001b[1;32m    184\u001b[0m     \u001b[0;31m# We found a file format that is compatible. Parse it!\u001b[0m\u001b[0;34m\u001b[0m\u001b[0;34m\u001b[0m\u001b[0;34m\u001b[0m\u001b[0m\n",
      "\u001b[0;31mFormatNotFound\u001b[0m: Could not identify file format"
     ]
    }
   ],
   "source": [
    "\n",
    "#x = np.linspace(0, 2*math.pi, 36)\n",
    "# not true if missing some points... SOLVED!\n",
    "#for torsion in range(len(torsion_names)):\n",
    "for torsion in range(0,6):\n",
    "    \n",
    "        maxorder=3\n",
    "        #print(torsion_names[torsion])\n",
    "        nframes , x = make_traj(torsion_names[torsion]+'_',[[dih[0],dih[1], dih[2],dih[3]] for dih  in all_dihedrals_type_index[torsion]])\n",
    "       \n",
    "        n_dih=len(all_dihedrals_type_index[torsion])\n",
    "        #print(n_dih)\n",
    "        data=np.loadtxt(torsion_names[torsion]+'_-energySP.dat')\n",
    "        # conversion hartree to kcal/mol : 1 hartree = 627.509 kcal.mol-1\n",
    "        data*= 627.509\n",
    "        #print(data)\n",
    "        derivdata=np.gradient(data,x.T[0])\n",
    "        #print(derivdata)\n",
    "        #k=np.min(data)\n",
    "        k=np.average(data)\n",
    "        data=data-k\n",
    "        k=np.min(derivdata)\n",
    "        derivdata=derivdata-k\n",
    "        #print(derivdata)\n",
    "        #dependency=make_dependency(torsion, all_dihedrals_type, all_dihedrals_type_index)\n",
    "        #multiplicity=make_multiplicity(torsion)\n",
    "        #print(all_dihedrals_type[torsion],all_dihedrals_type_index[torsion])\n",
    "        #print(data)\n",
    "        #print(x)\n",
    "        result=leastsquare(x.T,derivdata, all_dihedrals_type_index[torsion],all_dihedrals_type[torsion], maxorder)\n",
    "\n",
    "        final = derivdata + result.residual\n",
    "        #print( result.residual)\n",
    "        # write error report\n",
    "        report_fit(result)\n",
    "        #plot(data, data, x)\n",
    "        plot(derivdata, final,x)\n",
    "        write_frcmod(result,torsion_names[torsion],  all_dihedrals_type,all_dihedrals_type_index)\n",
    "add_new_parms(inputfile,torsion_names)"
   ]
  },
  {
   "cell_type": "code",
   "execution_count": 87,
   "metadata": {},
   "outputs": [
    {
     "name": "stdout",
     "output_type": "stream",
     "text": [
      "[[2, 4, 24, 25, 0], [5, 4, 24, 25, 1], [6, 4, 24, 25, 1], [2, 4, 24, 60, 2], [5, 4, 24, 60, 3], [6, 4, 24, 60, 3]] [['C', 'CX', 'N', 'C'], ['CU', 'CX', 'N', 'C'], ['C', 'CX', 'N', 'H'], ['CU', 'CX', 'N', 'H']]\n"
     ]
    }
   ],
   "source": [
    "all_dihedrals,   all_dihedrals_type, dihedrals_heavy, dihedrals_heavy_name, torsion_names, dihedrals_heavy_index , all_dihedrals_type_index = find_dihedrals('input.prmtop')\n",
    "\n",
    "print(all_dihedrals_type_index[2], all_dihedrals_type[2])\n",
    "Parameter"
   ]
  },
  {
   "cell_type": "code",
   "execution_count": 133,
   "metadata": {},
   "outputs": [
    {
     "name": "stdout",
     "output_type": "stream",
     "text": [
      "[[['CU', 'CU', 'CU', 'HC'], 3], [['CU', 'CU', 'CU', 'HC'], 3], [['CU', 'CU', 'CU', 'HC'], 3], [['CU', 'CU', 'CU', 'HC'], 3], [['HC', 'CU', 'CU', 'HC'], 3], [['HC', 'CU', 'CU', 'HC'], 3], [['HC', 'CU', 'CU', 'HC'], 3], [['CU', 'CU', 'CU', 'HC'], 4], [['CU', 'CU', 'CU', 'HC'], 4], [['CU', 'CU', 'CU', 'HC'], 4], [['CU', 'CU', 'CU', 'HC'], 4], [['CM', 'CU', 'CU', 'HC'], 4], [['HC', 'CU', 'CU', 'HC'], 4], [['HC', 'CU', 'CU', 'HC'], 4], [['HC', 'CU', 'CU', 'HC'], 4], [['CU', 'CU', 'CM', 'HA'], 5], [['CM', 'CM', 'CU', 'HC'], 5], [['CM', 'CM', 'CU', 'HC'], 7], [['CU', 'CU', 'CM', 'HA'], 7], [['CM', 'CU', 'CU', 'HC'], 8], [['CU', 'CU', 'CU', 'HC'], 8], [['CU', 'CU', 'CU', 'HC'], 8], [['CU', 'CU', 'CU', 'HC'], 8], [['CU', 'CU', 'CU', 'HC'], 8], [['HC', 'CU', 'CU', 'HC'], 8], [['HC', 'CU', 'CU', 'HC'], 8], [['HC', 'CU', 'CU', 'HC'], 8], [['CU', 'CU', 'CU', 'CU'], 9], [['CU', 'CU', 'CU', 'HC'], 9], [['CU', 'CU', 'CU', 'HC'], 9], [['CU', 'CU', 'CU', 'HC'], 9], [['CU', 'CU', 'CU', 'HC'], 9], [['HC', 'CU', 'CU', 'HC'], 9], [['HC', 'CU', 'CU', 'HC'], 9], [['HC', 'CU', 'CU', 'HC'], 9], [['CU', 'CU', 'CU', 'CU'], 10], [['CU', 'CU', 'CU', 'HC'], 10], [['CU', 'CU', 'CU', 'HC'], 10], [['CU', 'CU', 'CU', 'HC'], 10], [['CU', 'CU', 'CU', 'HC'], 10]]\n"
     ]
    }
   ],
   "source": [
    "def remove_redundant_all_dihedral_type_first_run(all_dihedral_type): \n",
    "    \n",
    "    removed=[]\n",
    "    all_dihedral_type_removed=[]\n",
    "    for t in range(len(all_dihedral_type)):\n",
    "        #print(t)\n",
    "        for tt in range( len(all_dihedral_type[t])):\n",
    "            #print(tt)\n",
    "            #print( all_dihedral_type[t][tt])\n",
    "            for  d in range(0, len(all_dihedral_type)):\n",
    "                #print(all_dihedral_type[d])\n",
    "                if all_dihedral_type[t][tt] in  all_dihedral_type[d] and d!=t :\n",
    "                    removed.append([all_dihedral_type[t][tt] ,t ])\n",
    "\n",
    "    print(removed)\n",
    "\n",
    "\n",
    "    return  removed \n",
    "\n",
    "\n",
    "to_remove_first_round = remove_redundant_all_dihedral_type_first_run(all_dihedrals_type)\n"
   ]
  },
  {
   "cell_type": "code",
   "execution_count": 129,
   "metadata": {},
   "outputs": [
    {
     "name": "stdout",
     "output_type": "stream",
     "text": [
      "[[['CU', 'CU', 'CU', 'HC'], 3], [['CU', 'CU', 'CU', 'HC'], 3], [['CU', 'CU', 'CU', 'HC'], 3], [['CU', 'CU', 'CU', 'HC'], 3], [['HC', 'CU', 'CU', 'HC'], 3], [['HC', 'CU', 'CU', 'HC'], 3], [['HC', 'CU', 'CU', 'HC'], 3], [['CU', 'CU', 'CU', 'HC'], 4], [['CU', 'CU', 'CU', 'HC'], 4], [['CU', 'CU', 'CU', 'HC'], 4], [['CU', 'CU', 'CU', 'HC'], 4], [['CM', 'CU', 'CU', 'HC'], 4], [['HC', 'CU', 'CU', 'HC'], 4], [['HC', 'CU', 'CU', 'HC'], 4], [['HC', 'CU', 'CU', 'HC'], 4], [['CU', 'CU', 'CM', 'HA'], 5], [['CM', 'CM', 'CU', 'HC'], 5], [['CM', 'CM', 'CU', 'HC'], 7], [['CU', 'CU', 'CM', 'HA'], 7], [['CM', 'CU', 'CU', 'HC'], 8], [['CU', 'CU', 'CU', 'HC'], 8], [['CU', 'CU', 'CU', 'HC'], 8], [['CU', 'CU', 'CU', 'HC'], 8], [['CU', 'CU', 'CU', 'HC'], 8], [['HC', 'CU', 'CU', 'HC'], 8], [['HC', 'CU', 'CU', 'HC'], 8], [['HC', 'CU', 'CU', 'HC'], 8], [['CU', 'CU', 'CU', 'CU'], 9], [['CU', 'CU', 'CU', 'HC'], 9], [['CU', 'CU', 'CU', 'HC'], 9], [['CU', 'CU', 'CU', 'HC'], 9], [['CU', 'CU', 'CU', 'HC'], 9], [['HC', 'CU', 'CU', 'HC'], 9], [['HC', 'CU', 'CU', 'HC'], 9], [['HC', 'CU', 'CU', 'HC'], 9], [['CU', 'CU', 'CU', 'CU'], 10], [['CU', 'CU', 'CU', 'HC'], 10], [['CU', 'CU', 'CU', 'HC'], 10], [['CU', 'CU', 'CU', 'HC'], 10], [['CU', 'CU', 'CU', 'HC'], 10]]\n"
     ]
    }
   ],
   "source": [
    "print (to_remove_first_round)\n"
   ]
  },
  {
   "cell_type": "code",
   "execution_count": 209,
   "metadata": {
    "scrolled": false
   },
   "outputs": [
    {
     "name": "stdout",
     "output_type": "stream",
     "text": [
      "[[1, 2, 4, 5, 0], [1, 2, 4, 6, 0], [1, 2, 4, 24, 1], [3, 2, 4, 5, 2], [3, 2, 4, 6, 2], [3, 2, 4, 24, 3]]\n"
     ]
    },
    {
     "ename": "NameError",
     "evalue": "name 'removed' is not defined",
     "output_type": "error",
     "traceback": [
      "\u001b[0;31m---------------------------------------------------------------------------\u001b[0m",
      "\u001b[0;31mNameError\u001b[0m                                 Traceback (most recent call last)",
      "\u001b[0;32m<ipython-input-209-1eae7a22c3dc>\u001b[0m in \u001b[0;36m<module>\u001b[0;34m\u001b[0m\n\u001b[1;32m      6\u001b[0m \u001b[0;34m\u001b[0m\u001b[0m\n\u001b[1;32m      7\u001b[0m         \u001b[0mprint\u001b[0m\u001b[0;34m(\u001b[0m\u001b[0;34m[\u001b[0m\u001b[0;34m[\u001b[0m\u001b[0mdih\u001b[0m\u001b[0;34m[\u001b[0m\u001b[0;36m0\u001b[0m\u001b[0;34m]\u001b[0m\u001b[0;34m,\u001b[0m\u001b[0mdih\u001b[0m\u001b[0;34m[\u001b[0m\u001b[0;36m1\u001b[0m\u001b[0;34m]\u001b[0m\u001b[0;34m,\u001b[0m \u001b[0mdih\u001b[0m\u001b[0;34m[\u001b[0m\u001b[0;36m2\u001b[0m\u001b[0;34m]\u001b[0m\u001b[0;34m,\u001b[0m\u001b[0mdih\u001b[0m\u001b[0;34m[\u001b[0m\u001b[0;36m3\u001b[0m\u001b[0;34m]\u001b[0m\u001b[0;34m,\u001b[0m \u001b[0mdih\u001b[0m\u001b[0;34m[\u001b[0m\u001b[0;36m4\u001b[0m\u001b[0;34m]\u001b[0m\u001b[0;34m]\u001b[0m \u001b[0;32mfor\u001b[0m \u001b[0mdih\u001b[0m  \u001b[0;32min\u001b[0m \u001b[0mall_dihedrals_type_index\u001b[0m\u001b[0;34m[\u001b[0m\u001b[0mtorsion\u001b[0m\u001b[0;34m]\u001b[0m \u001b[0;34m]\u001b[0m\u001b[0;34m)\u001b[0m\u001b[0;34m\u001b[0m\u001b[0;34m\u001b[0m\u001b[0m\n\u001b[0;32m----> 8\u001b[0;31m         \u001b[0mprint\u001b[0m\u001b[0;34m(\u001b[0m\u001b[0;34m[\u001b[0m\u001b[0;34m[\u001b[0m\u001b[0mdih\u001b[0m\u001b[0;34m[\u001b[0m\u001b[0;36m0\u001b[0m\u001b[0;34m]\u001b[0m\u001b[0;34m,\u001b[0m\u001b[0mdih\u001b[0m\u001b[0;34m[\u001b[0m\u001b[0;36m1\u001b[0m\u001b[0;34m]\u001b[0m\u001b[0;34m,\u001b[0m \u001b[0mdih\u001b[0m\u001b[0;34m[\u001b[0m\u001b[0;36m2\u001b[0m\u001b[0;34m]\u001b[0m\u001b[0;34m,\u001b[0m\u001b[0mdih\u001b[0m\u001b[0;34m[\u001b[0m\u001b[0;36m3\u001b[0m\u001b[0;34m]\u001b[0m\u001b[0;34m,\u001b[0m \u001b[0mdih\u001b[0m\u001b[0;34m[\u001b[0m\u001b[0;36m4\u001b[0m\u001b[0;34m]\u001b[0m\u001b[0;34m]\u001b[0m \u001b[0;32mfor\u001b[0m \u001b[0mdih\u001b[0m  \u001b[0;32min\u001b[0m \u001b[0mall_dihedrals_type_index\u001b[0m\u001b[0;34m[\u001b[0m\u001b[0mtorsion\u001b[0m\u001b[0;34m]\u001b[0m \u001b[0;32mif\u001b[0m \u001b[0mall_dihedrals_type\u001b[0m\u001b[0;34m[\u001b[0m\u001b[0mtorsion\u001b[0m\u001b[0;34m]\u001b[0m\u001b[0;34m[\u001b[0m\u001b[0mdih\u001b[0m\u001b[0;34m[\u001b[0m\u001b[0;36m4\u001b[0m\u001b[0;34m]\u001b[0m\u001b[0;34m]\u001b[0m \u001b[0;32mnot\u001b[0m \u001b[0;32min\u001b[0m \u001b[0;34m[\u001b[0m \u001b[0mrem\u001b[0m\u001b[0;34m[\u001b[0m\u001b[0;36m0\u001b[0m\u001b[0;34m]\u001b[0m \u001b[0;32mfor\u001b[0m \u001b[0mrem\u001b[0m \u001b[0;32min\u001b[0m \u001b[0mremoved\u001b[0m \u001b[0;34m]\u001b[0m\u001b[0;34m]\u001b[0m\u001b[0;34m)\u001b[0m\u001b[0;34m\u001b[0m\u001b[0;34m\u001b[0m\u001b[0m\n\u001b[0m\u001b[1;32m      9\u001b[0m \u001b[0;34m\u001b[0m\u001b[0m\n\u001b[1;32m     10\u001b[0m         \u001b[0mframes\u001b[0m \u001b[0;34m,\u001b[0m \u001b[0mx\u001b[0m \u001b[0;34m=\u001b[0m \u001b[0mmake_traj\u001b[0m\u001b[0;34m(\u001b[0m\u001b[0mtorsion_names\u001b[0m\u001b[0;34m[\u001b[0m\u001b[0mtorsion\u001b[0m\u001b[0;34m]\u001b[0m\u001b[0;34m+\u001b[0m\u001b[0;34m'_'\u001b[0m\u001b[0;34m,\u001b[0m\u001b[0;34m[\u001b[0m\u001b[0;34m[\u001b[0m\u001b[0mdih\u001b[0m\u001b[0;34m[\u001b[0m\u001b[0;36m0\u001b[0m\u001b[0;34m]\u001b[0m\u001b[0;34m,\u001b[0m\u001b[0mdih\u001b[0m\u001b[0;34m[\u001b[0m\u001b[0;36m1\u001b[0m\u001b[0;34m]\u001b[0m\u001b[0;34m,\u001b[0m \u001b[0mdih\u001b[0m\u001b[0;34m[\u001b[0m\u001b[0;36m2\u001b[0m\u001b[0;34m]\u001b[0m\u001b[0;34m,\u001b[0m\u001b[0mdih\u001b[0m\u001b[0;34m[\u001b[0m\u001b[0;36m3\u001b[0m\u001b[0;34m]\u001b[0m\u001b[0;34m]\u001b[0m \u001b[0;32mfor\u001b[0m \u001b[0mdih\u001b[0m  \u001b[0;32min\u001b[0m \u001b[0mall_dihedrals_type_index\u001b[0m\u001b[0;34m[\u001b[0m\u001b[0mtorsion\u001b[0m\u001b[0;34m]\u001b[0m \u001b[0;32mif\u001b[0m \u001b[0mall_dihedrals_type\u001b[0m\u001b[0;34m[\u001b[0m\u001b[0mtorsion\u001b[0m\u001b[0;34m]\u001b[0m\u001b[0;34m[\u001b[0m\u001b[0mdih\u001b[0m\u001b[0;34m[\u001b[0m\u001b[0;36m4\u001b[0m\u001b[0;34m]\u001b[0m\u001b[0;34m]\u001b[0m \u001b[0;32mnot\u001b[0m \u001b[0;32min\u001b[0m \u001b[0;34m[\u001b[0m \u001b[0mrem\u001b[0m\u001b[0;34m[\u001b[0m\u001b[0;36m0\u001b[0m\u001b[0;34m]\u001b[0m \u001b[0;32mfor\u001b[0m \u001b[0mrem\u001b[0m \u001b[0;32min\u001b[0m \u001b[0mremoved\u001b[0m \u001b[0;34m]\u001b[0m\u001b[0;34m]\u001b[0m\u001b[0;34m)\u001b[0m\u001b[0;34m\u001b[0m\u001b[0;34m\u001b[0m\u001b[0m\n",
      "\u001b[0;32m<ipython-input-209-1eae7a22c3dc>\u001b[0m in \u001b[0;36m<listcomp>\u001b[0;34m(.0)\u001b[0m\n\u001b[1;32m      6\u001b[0m \u001b[0;34m\u001b[0m\u001b[0m\n\u001b[1;32m      7\u001b[0m         \u001b[0mprint\u001b[0m\u001b[0;34m(\u001b[0m\u001b[0;34m[\u001b[0m\u001b[0;34m[\u001b[0m\u001b[0mdih\u001b[0m\u001b[0;34m[\u001b[0m\u001b[0;36m0\u001b[0m\u001b[0;34m]\u001b[0m\u001b[0;34m,\u001b[0m\u001b[0mdih\u001b[0m\u001b[0;34m[\u001b[0m\u001b[0;36m1\u001b[0m\u001b[0;34m]\u001b[0m\u001b[0;34m,\u001b[0m \u001b[0mdih\u001b[0m\u001b[0;34m[\u001b[0m\u001b[0;36m2\u001b[0m\u001b[0;34m]\u001b[0m\u001b[0;34m,\u001b[0m\u001b[0mdih\u001b[0m\u001b[0;34m[\u001b[0m\u001b[0;36m3\u001b[0m\u001b[0;34m]\u001b[0m\u001b[0;34m,\u001b[0m \u001b[0mdih\u001b[0m\u001b[0;34m[\u001b[0m\u001b[0;36m4\u001b[0m\u001b[0;34m]\u001b[0m\u001b[0;34m]\u001b[0m \u001b[0;32mfor\u001b[0m \u001b[0mdih\u001b[0m  \u001b[0;32min\u001b[0m \u001b[0mall_dihedrals_type_index\u001b[0m\u001b[0;34m[\u001b[0m\u001b[0mtorsion\u001b[0m\u001b[0;34m]\u001b[0m \u001b[0;34m]\u001b[0m\u001b[0;34m)\u001b[0m\u001b[0;34m\u001b[0m\u001b[0;34m\u001b[0m\u001b[0m\n\u001b[0;32m----> 8\u001b[0;31m         \u001b[0mprint\u001b[0m\u001b[0;34m(\u001b[0m\u001b[0;34m[\u001b[0m\u001b[0;34m[\u001b[0m\u001b[0mdih\u001b[0m\u001b[0;34m[\u001b[0m\u001b[0;36m0\u001b[0m\u001b[0;34m]\u001b[0m\u001b[0;34m,\u001b[0m\u001b[0mdih\u001b[0m\u001b[0;34m[\u001b[0m\u001b[0;36m1\u001b[0m\u001b[0;34m]\u001b[0m\u001b[0;34m,\u001b[0m \u001b[0mdih\u001b[0m\u001b[0;34m[\u001b[0m\u001b[0;36m2\u001b[0m\u001b[0;34m]\u001b[0m\u001b[0;34m,\u001b[0m\u001b[0mdih\u001b[0m\u001b[0;34m[\u001b[0m\u001b[0;36m3\u001b[0m\u001b[0;34m]\u001b[0m\u001b[0;34m,\u001b[0m \u001b[0mdih\u001b[0m\u001b[0;34m[\u001b[0m\u001b[0;36m4\u001b[0m\u001b[0;34m]\u001b[0m\u001b[0;34m]\u001b[0m \u001b[0;32mfor\u001b[0m \u001b[0mdih\u001b[0m  \u001b[0;32min\u001b[0m \u001b[0mall_dihedrals_type_index\u001b[0m\u001b[0;34m[\u001b[0m\u001b[0mtorsion\u001b[0m\u001b[0;34m]\u001b[0m \u001b[0;32mif\u001b[0m \u001b[0mall_dihedrals_type\u001b[0m\u001b[0;34m[\u001b[0m\u001b[0mtorsion\u001b[0m\u001b[0;34m]\u001b[0m\u001b[0;34m[\u001b[0m\u001b[0mdih\u001b[0m\u001b[0;34m[\u001b[0m\u001b[0;36m4\u001b[0m\u001b[0;34m]\u001b[0m\u001b[0;34m]\u001b[0m \u001b[0;32mnot\u001b[0m \u001b[0;32min\u001b[0m \u001b[0;34m[\u001b[0m \u001b[0mrem\u001b[0m\u001b[0;34m[\u001b[0m\u001b[0;36m0\u001b[0m\u001b[0;34m]\u001b[0m \u001b[0;32mfor\u001b[0m \u001b[0mrem\u001b[0m \u001b[0;32min\u001b[0m \u001b[0mremoved\u001b[0m \u001b[0;34m]\u001b[0m\u001b[0;34m]\u001b[0m\u001b[0;34m)\u001b[0m\u001b[0;34m\u001b[0m\u001b[0;34m\u001b[0m\u001b[0m\n\u001b[0m\u001b[1;32m      9\u001b[0m \u001b[0;34m\u001b[0m\u001b[0m\n\u001b[1;32m     10\u001b[0m         \u001b[0mframes\u001b[0m \u001b[0;34m,\u001b[0m \u001b[0mx\u001b[0m \u001b[0;34m=\u001b[0m \u001b[0mmake_traj\u001b[0m\u001b[0;34m(\u001b[0m\u001b[0mtorsion_names\u001b[0m\u001b[0;34m[\u001b[0m\u001b[0mtorsion\u001b[0m\u001b[0;34m]\u001b[0m\u001b[0;34m+\u001b[0m\u001b[0;34m'_'\u001b[0m\u001b[0;34m,\u001b[0m\u001b[0;34m[\u001b[0m\u001b[0;34m[\u001b[0m\u001b[0mdih\u001b[0m\u001b[0;34m[\u001b[0m\u001b[0;36m0\u001b[0m\u001b[0;34m]\u001b[0m\u001b[0;34m,\u001b[0m\u001b[0mdih\u001b[0m\u001b[0;34m[\u001b[0m\u001b[0;36m1\u001b[0m\u001b[0;34m]\u001b[0m\u001b[0;34m,\u001b[0m \u001b[0mdih\u001b[0m\u001b[0;34m[\u001b[0m\u001b[0;36m2\u001b[0m\u001b[0;34m]\u001b[0m\u001b[0;34m,\u001b[0m\u001b[0mdih\u001b[0m\u001b[0;34m[\u001b[0m\u001b[0;36m3\u001b[0m\u001b[0;34m]\u001b[0m\u001b[0;34m]\u001b[0m \u001b[0;32mfor\u001b[0m \u001b[0mdih\u001b[0m  \u001b[0;32min\u001b[0m \u001b[0mall_dihedrals_type_index\u001b[0m\u001b[0;34m[\u001b[0m\u001b[0mtorsion\u001b[0m\u001b[0;34m]\u001b[0m \u001b[0;32mif\u001b[0m \u001b[0mall_dihedrals_type\u001b[0m\u001b[0;34m[\u001b[0m\u001b[0mtorsion\u001b[0m\u001b[0;34m]\u001b[0m\u001b[0;34m[\u001b[0m\u001b[0mdih\u001b[0m\u001b[0;34m[\u001b[0m\u001b[0;36m4\u001b[0m\u001b[0;34m]\u001b[0m\u001b[0;34m]\u001b[0m \u001b[0;32mnot\u001b[0m \u001b[0;32min\u001b[0m \u001b[0;34m[\u001b[0m \u001b[0mrem\u001b[0m\u001b[0;34m[\u001b[0m\u001b[0;36m0\u001b[0m\u001b[0;34m]\u001b[0m \u001b[0;32mfor\u001b[0m \u001b[0mrem\u001b[0m \u001b[0;32min\u001b[0m \u001b[0mremoved\u001b[0m \u001b[0;34m]\u001b[0m\u001b[0;34m]\u001b[0m\u001b[0;34m)\u001b[0m\u001b[0;34m\u001b[0m\u001b[0;34m\u001b[0m\u001b[0m\n",
      "\u001b[0;31mNameError\u001b[0m: name 'removed' is not defined"
     ]
    }
   ],
   "source": [
    "\n",
    "#x = np.linspace(0, 2*math.pi, 36)\n",
    "# not true if missing some points... SOLVED!\n",
    "#for torsion in range(len(torsion_names)):\n",
    "for torsion in range(len(torsion_names)):\n",
    "        maxorder=5\n",
    "\n",
    "        print([[dih[0],dih[1], dih[2],dih[3], dih[4]] for dih  in all_dihedrals_type_index[torsion] ])\n",
    "        print([[dih[0],dih[1], dih[2],dih[3], dih[4]] for dih  in all_dihedrals_type_index[torsion] if all_dihedrals_type[torsion][dih[4]] not in [ rem[0] for rem in removed ]])\n",
    "\n",
    "        frames , x = make_traj(torsion_names[torsion]+'_',[[dih[0],dih[1], dih[2],dih[3]] for dih  in all_dihedrals_type_index[torsion] if all_dihedrals_type[torsion][dih[4]] not in [ rem[0] for rem in removed ]])\n",
    "        #print(len(all_dihedrals_type_removed[torsion]), len(x[0]))\n",
    "        #print([ rem[0] for rem in removed if  rem[1] ==torsion])\n",
    "        n_dih=len(all_dihedrals_type_index[torsion])-len([ rem[0] for rem in removed if  rem[1] ==torsion]  )\n",
    "        #print(n_dih)\n",
    "        data=np.loadtxt(torsion_names[torsion]+'_-energySP.dat')\n",
    "        # conversion hartree to kcal/mol : 1 hartree = 627.509 kcal.mol-1\n",
    "        data*= 627.509\n",
    "        #print(data)\n",
    "        derivdata=np.gradient(data,x.T[0])\n",
    "        #print(derivdata)\n",
    "        k=np.min(data)\n",
    "        data=data-k\n",
    "        k=np.min(derivdata)\n",
    "        derivdata=derivdata-k\n",
    "        #print(derivdata)\n",
    "        #dependency=make_dependency(torsion, all_dihedrals_type, all_dihedrals_type_index)\n",
    "        #multiplicity=make_multiplicity(torsion)\n",
    "        #print(all_dihedrals_type[torsion],all_dihedrals_type_index[torsion])\n",
    "        #print(x[0])\n",
    "        dihedrals_type_index = [dih for dih in all_dihedrals_type_index[torsion] if all_dihedrals_type[torsion][dih[4]] not in [ rem[0] for rem in removed if  rem[1] ==torsion]] \n",
    "        result=leastsquare(x.T,derivdata, dihedrals_type_index,all_dihedrals_type[torsion], maxorder, [ rem[0] for rem in removed if  rem[1] ==torsion])\n",
    "\n",
    "        final = derivdata + result.residual\n",
    "        #print( result.residual)\n",
    "        # write error report\n",
    "        report_fit(result)\n",
    "        #plot(data, data, x)\n",
    "        plot(derivdata, final,x)\n",
    "        write_frcmod(result,torsion_names[torsion],  all_dihedrals_type,all_dihedrals_type_index)\n",
    "add_new_parms(inputfile,torsion_names)"
   ]
  },
  {
   "cell_type": "code",
   "execution_count": 125,
   "metadata": {},
   "outputs": [
    {
     "ename": "FormatNotFound",
     "evalue": "Could not identify file format",
     "output_type": "error",
     "traceback": [
      "\u001b[0;31m---------------------------------------------------------------------------\u001b[0m",
      "\u001b[0;31mFormatNotFound\u001b[0m                            Traceback (most recent call last)",
      "\u001b[0;32m<ipython-input-125-7c91711badb0>\u001b[0m in \u001b[0;36m<module>\u001b[0;34m\u001b[0m\n\u001b[0;32m----> 1\u001b[0;31m \u001b[0mnew\u001b[0m\u001b[0;34m=\u001b[0m\u001b[0mparmed\u001b[0m\u001b[0;34m.\u001b[0m\u001b[0mload_file\u001b[0m\u001b[0;34m(\u001b[0m\u001b[0;34m'newtopol.prmtop'\u001b[0m\u001b[0;34m)\u001b[0m\u001b[0;34m\u001b[0m\u001b[0;34m\u001b[0m\u001b[0m\n\u001b[0m\u001b[1;32m      2\u001b[0m \u001b[0;34m\u001b[0m\u001b[0m\n\u001b[1;32m      3\u001b[0m \u001b[0mparmed\u001b[0m\u001b[0;34m.\u001b[0m\u001b[0mtools\u001b[0m\u001b[0;34m.\u001b[0m\u001b[0mwriteFrcmod\u001b[0m\u001b[0;34m(\u001b[0m\u001b[0mnew\u001b[0m\u001b[0;34m,\u001b[0m\u001b[0;34m'new.frcmod'\u001b[0m\u001b[0;34m)\u001b[0m\u001b[0;34m.\u001b[0m\u001b[0mexecute\u001b[0m\u001b[0;34m(\u001b[0m\u001b[0;34m)\u001b[0m\u001b[0;34m\u001b[0m\u001b[0;34m\u001b[0m\u001b[0m\n",
      "\u001b[0;32m~/Utilities/amber16/lib/python2.7/site-packages/parmed/formats/registry.py\u001b[0m in \u001b[0;36mload_file\u001b[0;34m(filename, *args, **kwargs)\u001b[0m\n\u001b[1;32m    180\u001b[0m     \u001b[0;32melse\u001b[0m\u001b[0;34m:\u001b[0m\u001b[0;34m\u001b[0m\u001b[0;34m\u001b[0m\u001b[0m\n\u001b[1;32m    181\u001b[0m         \u001b[0;31m# We found no file format\u001b[0m\u001b[0;34m\u001b[0m\u001b[0;34m\u001b[0m\u001b[0;34m\u001b[0m\u001b[0m\n\u001b[0;32m--> 182\u001b[0;31m         \u001b[0;32mraise\u001b[0m \u001b[0mFormatNotFound\u001b[0m\u001b[0;34m(\u001b[0m\u001b[0;34m'Could not identify file format'\u001b[0m\u001b[0;34m)\u001b[0m\u001b[0;34m\u001b[0m\u001b[0;34m\u001b[0m\u001b[0m\n\u001b[0m\u001b[1;32m    183\u001b[0m \u001b[0;34m\u001b[0m\u001b[0m\n\u001b[1;32m    184\u001b[0m     \u001b[0;31m# We found a file format that is compatible. Parse it!\u001b[0m\u001b[0;34m\u001b[0m\u001b[0;34m\u001b[0m\u001b[0;34m\u001b[0m\u001b[0m\n",
      "\u001b[0;31mFormatNotFound\u001b[0m: Could not identify file format"
     ]
    }
   ],
   "source": [
    "new=parmed.load_file('newtopol.prmtop')\n",
    "\n",
    "parmed.tools.writeFrcmod(new,'new.frcmod').execute()"
   ]
  }
 ],
 "metadata": {
  "kernelspec": {
   "display_name": "Python 3",
   "language": "python",
   "name": "python3"
  },
  "language_info": {
   "codemirror_mode": {
    "name": "ipython",
    "version": 3
   },
   "file_extension": ".py",
   "mimetype": "text/x-python",
   "name": "python",
   "nbconvert_exporter": "python",
   "pygments_lexer": "ipython3",
   "version": "3.7.3"
  }
 },
 "nbformat": 4,
 "nbformat_minor": 2
}
